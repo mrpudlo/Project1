{
 "cells": [
  {
   "cell_type": "code",
   "execution_count": 1,
   "metadata": {},
   "outputs": [],
   "source": [
    "#import libraries\n",
    "import ipywidgets as widgets"
   ]
  },
  {
   "cell_type": "code",
   "execution_count": 2,
   "metadata": {},
   "outputs": [
    {
     "data": {
      "application/vnd.jupyter.widget-view+json": {
       "model_id": "9cf02c1b7a45448d98dc1573b9589d25",
       "version_major": 2,
       "version_minor": 0
      },
      "text/plain": [
       "VBox(children=(Label(value='StackOverflow Question Analyser'), Text(value='Put post Title Here', description='…"
      ]
     },
     "metadata": {},
     "output_type": "display_data"
    }
   ],
   "source": [
    "main_lable = widgets.Label(value=\"StackOverflow Question Analyser\")\n",
    "post_title = widgets.Text(\n",
    "    value='Put post Title Here',\n",
    "    placeholder='Type something',\n",
    "    description='Post Title:',\n",
    "    disabled=False\n",
    ")\n",
    "post_text = widgets.Textarea(\n",
    "    value='Type out the post text here',\n",
    "    placeholder='Type something',\n",
    "    description='Post Text:',\n",
    "    disabled=False\n",
    ")\n",
    "\n",
    "tags = [widgets.Text(value= \"\", description='tag %d:' % (i+1) , disabled=False) for i in range(5)]\n",
    "post_tags = widgets.HBox(tags)\n",
    "\n",
    "post_files = widgets.FileUpload(\n",
    "    accept='image/*',  # Accepted file extension e.g. '.txt', '.pdf', 'image/*', 'image/*,.pdf'\n",
    "    multiple=True  # True to accept multiple files upload else False\n",
    ")\n",
    "\n",
    "btn_run = widgets.Button(\n",
    "    description='Run',\n",
    "    disabled=False,\n",
    "    button_style='', # 'success', 'info', 'warning', 'danger' or ''\n",
    "    tooltip='Run'\n",
    ")\n",
    "\n",
    "accordion = widgets.Accordion(children=[widgets.Text(), widgets.Text()])\n",
    "accordion.set_title(0, 'Slider')\n",
    "accordion.set_title(1, 'Text')\n",
    "\n",
    "widgets.VBox([main_lable, post_title, post_text, post_tags, post_files, btn_run])\n"
   ]
  },
  {
   "cell_type": "code",
   "execution_count": 3,
   "metadata": {},
   "outputs": [],
   "source": [
    "def run_question_analysis(x):\n",
    "    #get info from form\n",
    "    title_info = post_title.value\n",
    "    text_info = post_text.value\n",
    "    tags_info = [tags[i].value for i in range(len(tags))]\n",
    "    num_of_tags = 0\n",
    "    for i in tags_info:\n",
    "        num_of_tags+=1\n",
    "    #do the processing of the question from here\n",
    "    #TO-DO: input data from gathered feilds into a Learning Algoritum to complete predicitive analysis\n",
    "    #TO-DO: export gui to a more presnetbale form outside of notebook\n",
    "    #TO-DO: Add way to gather additonal factors for git hub completion besided basics\n",
    "btn_run.on_click(run_question_analysis) #map button press to function"
   ]
  },
  {
   "cell_type": "code",
   "execution_count": null,
   "metadata": {},
   "outputs": [],
   "source": []
  },
  {
   "cell_type": "code",
   "execution_count": null,
   "metadata": {},
   "outputs": [],
   "source": []
  },
  {
   "cell_type": "code",
   "execution_count": null,
   "metadata": {},
   "outputs": [],
   "source": []
  },
  {
   "cell_type": "code",
   "execution_count": null,
   "metadata": {},
   "outputs": [],
   "source": []
  }
 ],
 "metadata": {
  "kernelspec": {
   "display_name": "Python 3",
   "language": "python",
   "name": "python3"
  },
  "language_info": {
   "codemirror_mode": {
    "name": "ipython",
    "version": 3
   },
   "file_extension": ".py",
   "mimetype": "text/x-python",
   "name": "python",
   "nbconvert_exporter": "python",
   "pygments_lexer": "ipython3",
   "version": "3.8.3"
  }
 },
 "nbformat": 4,
 "nbformat_minor": 4
}
