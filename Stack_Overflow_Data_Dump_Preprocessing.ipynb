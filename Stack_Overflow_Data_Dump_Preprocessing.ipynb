{
 "cells": [
  {
   "cell_type": "code",
   "execution_count": 1,
   "metadata": {},
   "outputs": [],
   "source": [
    "import xml.etree.ElementTree as ET"
   ]
  },
  {
   "cell_type": "code",
   "execution_count": 17,
   "metadata": {},
   "outputs": [],
   "source": [
    "Comments_tree = ET.parse('Data_Dump/Comments.xml')\n",
    "Posts_tree = ET.parse('Data_Dump/Posts.xml')\n",
    "Users_tree = ET.parse('Data_Dump/Users.xml')\n",
    "Tags_tree = ET.parse('Data_Dump/Tags.xml')"
   ]
  },
  {
   "cell_type": "code",
   "execution_count": 20,
   "metadata": {},
   "outputs": [],
   "source": [
    "Comments_root = Comments_tree.getroot()\n",
    "Posts_root = Posts_tree.getroot()\n",
    "Users_root = Users_tree.getroot()\n",
    "Tags_root = Tags_tree.getroot()"
   ]
  },
  {
   "cell_type": "code",
   "execution_count": 21,
   "metadata": {},
   "outputs": [
    {
     "name": "stdout",
     "output_type": "stream",
     "text": [
      "{'Id': '3', 'PostId': '3', 'Score': '2', 'Text': \"Good naming convention and well structured code will help you decrease the comments need. Don`t forget that each line of comments you add it's a new line to maintain!!\", 'CreationDate': '2010-09-01T19:47:32.873', 'UserId': '28', 'ContentLicense': 'CC BY-SA 2.5'}\n",
      "{'Id': '5', 'PostId': '20', 'Score': '17', 'Text': '+1 for truth, -1 for practicality. :)', 'CreationDate': '2010-09-01T19:49:47.933', 'UserId': '9', 'ContentLicense': 'CC BY-SA 2.5'}\n",
      "{'Id': '8', 'PostId': '3', 'Score': '0', 'Text': '@Gabriel: that was already in my answer, look at the end.', 'CreationDate': '2010-09-01T19:51:45.260', 'UserId': '11', 'ContentLicense': 'CC BY-SA 2.5'}\n",
      "{'Id': '9', 'PostId': '23', 'Score': '2', 'Text': 'Sometimes it\\'s the technique I use, but also when I\\'m too deep into my work and I want to change my mind to get a \"fresh\" look to my work.', 'CreationDate': '2010-09-01T19:51:48.200', 'UserId': '28', 'ContentLicense': 'CC BY-SA 2.5'}\n",
      "{'Id': '16', 'PostId': '3', 'Score': '1', 'Text': \"@Lorenzo: sorry, I've read it and did not catch this one...\", 'CreationDate': '2010-09-01T20:01:02.077', 'UserId': '28', 'ContentLicense': 'CC BY-SA 2.5'}\n"
     ]
    }
   ],
   "source": [
    "for child in Comments_root[:5]:\n",
    "    print(child.attrib)"
   ]
  },
  {
   "cell_type": "code",
   "execution_count": 22,
   "metadata": {},
   "outputs": [
    {
     "data": {
      "text/plain": [
       "1660"
      ]
     },
     "execution_count": 22,
     "metadata": {},
     "output_type": "execute_result"
    }
   ],
   "source": [
    "len(Tags_root)"
   ]
  },
  {
   "cell_type": "code",
   "execution_count": 23,
   "metadata": {},
   "outputs": [
    {
     "data": {
      "text/plain": [
       "316020"
      ]
     },
     "execution_count": 23,
     "metadata": {},
     "output_type": "execute_result"
    }
   ],
   "source": [
    "len(Users_root)"
   ]
  },
  {
   "cell_type": "code",
   "execution_count": 24,
   "metadata": {},
   "outputs": [
    {
     "data": {
      "text/plain": [
       "224241"
      ]
     },
     "execution_count": 24,
     "metadata": {},
     "output_type": "execute_result"
    }
   ],
   "source": [
    "len(Posts_root)"
   ]
  },
  {
   "cell_type": "code",
   "execution_count": null,
   "metadata": {},
   "outputs": [],
   "source": []
  }
 ],
 "metadata": {
  "kernelspec": {
   "display_name": "Python 3",
   "language": "python",
   "name": "python3"
  },
  "language_info": {
   "codemirror_mode": {
    "name": "ipython",
    "version": 3
   },
   "file_extension": ".py",
   "mimetype": "text/x-python",
   "name": "python",
   "nbconvert_exporter": "python",
   "pygments_lexer": "ipython3",
   "version": "3.8.5"
  }
 },
 "nbformat": 4,
 "nbformat_minor": 4
}
