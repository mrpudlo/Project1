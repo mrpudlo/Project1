{
 "cells": [
  {
   "cell_type": "code",
   "execution_count": 62,
   "metadata": {},
   "outputs": [],
   "source": [
    "import xml.etree.ElementTree as ET\n",
    "import pandas as pd\n",
    "import nltk\n",
    "from nltk.stem import WordNetLemmatizer\n",
    "from nltk.stem import PorterStemmer \n",
    "from nltk.tokenize import word_tokenize "
   ]
  },
  {
   "cell_type": "code",
   "execution_count": 63,
   "metadata": {},
   "outputs": [
    {
     "data": {
      "text/plain": [
       "224241"
      ]
     },
     "execution_count": 63,
     "metadata": {},
     "output_type": "execute_result"
    }
   ],
   "source": [
    "Posts_tree = ET.parse('Data_Dump/Posts.xml')\n",
    "Posts_root = Posts_tree.getroot()\n",
    "len(Posts_root)"
   ]
  },
  {
   "cell_type": "code",
   "execution_count": 64,
   "metadata": {},
   "outputs": [
    {
     "name": "stdout",
     "output_type": "stream",
     "text": [
      "{'Id': '1', 'PostTypeId': '1', 'AcceptedAnswerId': '13', 'CreationDate': '2010-09-01T19:34:48.000', 'Score': '100', 'ViewCount': '51183', 'Body': '<p>A coworker of mine believes that <em>any</em> use of in-code comments (ie, not javadoc style method or class comments) is a <a href=\"http://en.wikipedia.org/wiki/Code_smell\">code smell</a>.  What do you think?</p>\\n', 'OwnerUserId': '6', 'LastEditorUserId': '226', 'LastEditDate': '2011-11-25T22:32:41.300', 'LastActivityDate': '2012-11-27T19:29:27.740', 'Title': '\"Comments are a code smell\"', 'Tags': '<comments><anti-patterns>', 'AnswerCount': '34', 'CommentCount': '10', 'FavoriteCount': '74', 'ClosedDate': '2012-11-27T20:11:51.580', 'CommunityOwnedDate': '2011-01-31T09:04:54.130', 'ContentLicense': 'CC BY-SA 2.5'}\n",
      "{'Id': '3', 'PostTypeId': '2', 'ParentId': '1', 'CreationDate': '2010-09-01T19:36:50.053', 'Score': '29', 'Body': '<p>Ideally, code should be so well coded that it should be auto explicative. In the real world, we know that also very high quality code needs sometimes commenting.</p>\\n\\n<p>What you should absolutely avoid is \"comment-code redundancy\" (comments that don\\'t add anything to code):</p>\\n\\n<pre><code>i++; // Increment i by 1\\n</code></pre>\\n\\n<p>Then, if there\\'s a good (and maintained/aligned) code design and documentation, commenting is even less useful.</p>\\n\\n<p>But in some circumstances comments can be a good aid in code readability:</p>\\n\\n<pre><code>while( foo )\\n{\\n     if( dummy )\\n     {\\n     }\\n     else // !dummy\\n     {\\n     }\\n} // end while( foo )\\n</code></pre>\\n\\n<p>Don\\'t forget that you have to maintain and keep in sync also comments... outdated or wrong comments can be a terrible pain! And, as a general rule, commenting too much can be a symptom of bad programming.</p>\\n', 'OwnerUserId': '11', 'LastEditorUserId': '11', 'LastEditDate': '2010-09-01T20:41:14.273', 'LastActivityDate': '2010-09-01T20:41:14.273', 'CommentCount': '17', 'CommunityOwnedDate': '2011-01-31T09:04:54.130', 'ContentLicense': 'CC BY-SA 2.5'}\n",
      "{'Id': '4', 'PostTypeId': '1', 'AcceptedAnswerId': '26', 'CreationDate': '2010-09-01T19:37:39.957', 'Score': '66', 'ViewCount': '9172', 'Body': \"<p>When starting a project for a company that's not primarily a programming company, one of the expectations is that there's a finished product at the end free of all bugs and does everything needed right away. However, that's rarely the case. </p>\\n\\n<p>What are some ways to manage expectations and explain to non-programmers how software development differs from other types of product development?</p>\\n\", 'OwnerDisplayName': 'user8', 'LastEditorDisplayName': 'user8', 'LastEditDate': '2010-09-01T19:45:26.117', 'LastActivityDate': '2013-03-20T19:59:57.770', 'Title': 'Getting non-programmers to understand the development process', 'Tags': '<business><project-management><development-process>', 'AnswerCount': '12', 'CommentCount': '2', 'FavoriteCount': '33', 'ContentLicense': 'CC BY-SA 2.5'}\n",
      "{'Id': '7', 'PostTypeId': '2', 'ParentId': '1', 'CreationDate': '2010-09-01T19:42:16.797', 'Score': '10', 'Body': '<p>I think the answer is the usual \"It depends\" one.  Commenting code just to comment code is a smell.  Commenting code because you\\'re using an obscure algorithm that\\'s an order of magnitude faster saves the maintenance programmer (usually me 6 months after I wrote it) half a day of poking through the code to determine what it\\'s doing.</p>\\n', 'OwnerUserId': '21', 'LastActivityDate': '2010-09-01T19:42:16.797', 'CommentCount': '0', 'CommunityOwnedDate': '2011-01-31T09:04:54.130', 'ContentLicense': 'CC BY-SA 2.5'}\n",
      "{'Id': '9', 'PostTypeId': '1', 'CreationDate': '2010-09-01T19:43:04.957', 'Score': '39', 'ViewCount': '12173', 'Body': \"<p>Sometimes, the things I have to do for my job are interesting and engaging.  Sometimes, they aren't.  Occasionally, they <i>really</i> aren't.</p>\\n\\n<p>Do you have any particular strategies or tricks for dealing with those dull stretches when your brain would rather be doing anything other than what you're supposed to be doing, particularly when the Internet and its boundless opportunities for interesting Slack beckon?</p>\\n\", 'OwnerUserId': '17', 'LastEditorUserId': '666', 'LastEditDate': '2010-09-11T09:35:35.957', 'LastActivityDate': '2011-01-04T21:22:43.957', 'Title': 'How do you stay focused at work?', 'Tags': '<productivity><time-management>', 'AnswerCount': '24', 'CommentCount': '1', 'FavoriteCount': '26', 'ClosedDate': '2012-11-13T19:09:35.853', 'CommunityOwnedDate': '2011-01-04T21:22:43.957', 'ContentLicense': 'CC BY-SA 2.5'}\n"
     ]
    }
   ],
   "source": [
    "for child in Posts_root[:5]:\n",
    "    print(child.attrib)"
   ]
  },
  {
   "cell_type": "code",
   "execution_count": 80,
   "metadata": {},
   "outputs": [],
   "source": [
    "df = pd.DataFrame(columns = ['Title', 'Body'])"
   ]
  },
  {
   "cell_type": "code",
   "execution_count": 81,
   "metadata": {},
   "outputs": [
    {
     "name": "stdout",
     "output_type": "stream",
     "text": [
      "{'Id': '1', 'PostTypeId': '1', 'AcceptedAnswerId': '13', 'CreationDate': '2010-09-01T19:34:48.000', 'Score': '100', 'ViewCount': '51183', 'Body': '<p>A coworker of mine believes that <em>any</em> use of in-code comments (ie, not javadoc style method or class comments) is a <a href=\"http://en.wikipedia.org/wiki/Code_smell\">code smell</a>.  What do you think?</p>\\n', 'OwnerUserId': '6', 'LastEditorUserId': '226', 'LastEditDate': '2011-11-25T22:32:41.300', 'LastActivityDate': '2012-11-27T19:29:27.740', 'Title': '\"Comments are a code smell\"', 'Tags': '<comments><anti-patterns>', 'AnswerCount': '34', 'CommentCount': '10', 'FavoriteCount': '74', 'ClosedDate': '2012-11-27T20:11:51.580', 'CommunityOwnedDate': '2011-01-31T09:04:54.130', 'ContentLicense': 'CC BY-SA 2.5'}\n"
     ]
    }
   ],
   "source": [
    "posts = []\n",
    "for child in Posts_root[:5]:\n",
    "    posts.append(child.attrib)\n",
    "print(posts[0])"
   ]
  },
  {
   "cell_type": "code",
   "execution_count": 82,
   "metadata": {},
   "outputs": [],
   "source": [
    "def remove_html_tags(text):\n",
    "    \"\"\"Remove html tags from a string\"\"\"\n",
    "    import re\n",
    "    clean = re.compile('<.*?>')\n",
    "    return re.sub(clean, '', text)\n",
    "\n",
    "ps = PorterStemmer()\n"
   ]
  },
  {
   "cell_type": "code",
   "execution_count": 83,
   "metadata": {},
   "outputs": [],
   "source": [
    "for i, post in enumerate(posts):\n",
    "    if 'Title' in post:\n",
    "        df = df.append({'Title': post['Title'], 'Body': remove_html_tags(post['Body'])}, ignore_index=True)"
   ]
  },
  {
   "cell_type": "code",
   "execution_count": 84,
   "metadata": {},
   "outputs": [
    {
     "data": {
      "text/html": [
       "<div>\n",
       "<style scoped>\n",
       "    .dataframe tbody tr th:only-of-type {\n",
       "        vertical-align: middle;\n",
       "    }\n",
       "\n",
       "    .dataframe tbody tr th {\n",
       "        vertical-align: top;\n",
       "    }\n",
       "\n",
       "    .dataframe thead th {\n",
       "        text-align: right;\n",
       "    }\n",
       "</style>\n",
       "<table border=\"1\" class=\"dataframe\">\n",
       "  <thead>\n",
       "    <tr style=\"text-align: right;\">\n",
       "      <th></th>\n",
       "      <th>Title</th>\n",
       "      <th>Body</th>\n",
       "    </tr>\n",
       "  </thead>\n",
       "  <tbody>\n",
       "    <tr>\n",
       "      <th>0</th>\n",
       "      <td>\"Comments are a code smell\"</td>\n",
       "      <td>A coworker of mine believes that any use of in...</td>\n",
       "    </tr>\n",
       "    <tr>\n",
       "      <th>1</th>\n",
       "      <td>Getting non-programmers to understand the deve...</td>\n",
       "      <td>When starting a project for a company that's n...</td>\n",
       "    </tr>\n",
       "    <tr>\n",
       "      <th>2</th>\n",
       "      <td>How do you stay focused at work?</td>\n",
       "      <td>Sometimes, the things I have to do for my job ...</td>\n",
       "    </tr>\n",
       "  </tbody>\n",
       "</table>\n",
       "</div>"
      ],
      "text/plain": [
       "                                               Title  \\\n",
       "0                        \"Comments are a code smell\"   \n",
       "1  Getting non-programmers to understand the deve...   \n",
       "2                   How do you stay focused at work?   \n",
       "\n",
       "                                                Body  \n",
       "0  A coworker of mine believes that any use of in...  \n",
       "1  When starting a project for a company that's n...  \n",
       "2  Sometimes, the things I have to do for my job ...  "
      ]
     },
     "execution_count": 84,
     "metadata": {},
     "output_type": "execute_result"
    }
   ],
   "source": [
    "df.head(6)"
   ]
  },
  {
   "cell_type": "code",
   "execution_count": 61,
   "metadata": {},
   "outputs": [],
   "source": []
  },
  {
   "cell_type": "code",
   "execution_count": null,
   "metadata": {},
   "outputs": [],
   "source": []
  }
 ],
 "metadata": {
  "kernelspec": {
   "display_name": "Python 3",
   "language": "python",
   "name": "python3"
  },
  "language_info": {
   "codemirror_mode": {
    "name": "ipython",
    "version": 3
   },
   "file_extension": ".py",
   "mimetype": "text/x-python",
   "name": "python",
   "nbconvert_exporter": "python",
   "pygments_lexer": "ipython3",
   "version": "3.8.5"
  }
 },
 "nbformat": 4,
 "nbformat_minor": 4
}
